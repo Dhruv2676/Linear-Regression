{
 "cells": [
  {
   "cell_type": "markdown",
   "metadata": {
    "id": "T8QcWaQJ5Zqt"
   },
   "source": [
    "# Linear Regression\n",
    "\n",
    "We have to train a Linear Regression model on the `auto-mpg` dataset, which has features about a car from which we have to predict the mileage per gallon (mpg) fuel of the car."
   ]
  },
  {
   "cell_type": "markdown",
   "metadata": {
    "id": "SFBmNslV5d9J"
   },
   "source": [
    "## Data Preprocessing\n",
    "\n",
    "We will import the necessary modules for the task at hand.\n",
    "\n",
    "Following that, we will load the data as a pandas _DataFrame_, scale the features and make them ready for traning."
   ]
  },
  {
   "cell_type": "code",
   "execution_count": null,
   "metadata": {
    "id": "EaONYbBavyRf"
   },
   "outputs": [],
   "source": [
    "import pandas as pd\n",
    "import numpy as np\n",
    "from matplotlib import pyplot as plt\n",
    "from sklearn.model_selection import train_test_split"
   ]
  },
  {
   "cell_type": "code",
   "execution_count": null,
   "metadata": {
    "id": "5QwnAfnnLgLo"
   },
   "outputs": [],
   "source": [
    "file_path = \"auto-mpg.csv\"\n",
    "df = pd.read_csv(file_path, header=0)\n",
    "\n",
    "# to get number of NaN values in the dataframe\n",
    "# df.isnull().sum().sum()\n",
    "\n",
    "df.dropna(inplace=True) # drop all rows with NaN values in any column\n",
    "\n",
    "df.drop(df[df['horsepower'] == \"?\"].index, inplace=True) # in this particular case, drops all rows with \"?\" in horsepower column.\n",
    "df['horsepower'] = df['horsepower'].astype('float64')"
   ]
  },
  {
   "cell_type": "markdown",
   "metadata": {
    "id": "-gnLeBeq6tJ7"
   },
   "source": [
    "For feature scaling we will use the Z-Score Normalization Technique which we will implement from scratch. The formula looks like:\n",
    "\n",
    "$$ X_{(i)}^{normalized} = \\frac{X_{(i)} - \\mu_{(i)}}{\\sigma_{(i)}}\\ $$\n",
    "\n",
    "$ X_{(i)} $ is the $ i^{th} $ feature.\n",
    "\n",
    "$ \\mu_{(i)} $ and $ \\sigma_{(i)} $ are the mean and standard deviation of the $ i^{th} $ feature respectively."
   ]
  },
  {
   "cell_type": "code",
   "execution_count": null,
   "metadata": {
    "id": "aOefQIxzN6R6"
   },
   "outputs": [],
   "source": [
    "def feature_scaling(df):\n",
    "  columns = df.columns\n",
    "  for column in columns:\n",
    "    n = len(df[column])\n",
    "    mean = sum(df[column]) / n\n",
    "\n",
    "    variance = 0\n",
    "    for val in df[column]:\n",
    "      variance += (val - mean) ** 2\n",
    "    std = (variance / (n - 1)) ** 0.5\n",
    "\n",
    "    df[column] = (df[column] - mean) / std\n",
    "  return df"
   ]
  },
  {
   "cell_type": "code",
   "execution_count": null,
   "metadata": {
    "id": "DP2HG_wkLlrL"
   },
   "outputs": [],
   "source": [
    "scaled_features = feature_scaling(df.drop(columns=[\"car name\", \"mpg\"], axis=1))\n",
    "\n",
    "X = scaled_features.copy()\n",
    "y = np.array(df['mpg'].copy()).reshape((X.shape[0], 1))"
   ]
  },
  {
   "cell_type": "code",
   "execution_count": null,
   "metadata": {
    "id": "Vf-elO0iKqA1"
   },
   "outputs": [],
   "source": [
    "m = X.shape[0] # number of training examples\n",
    "n = X.shape[1] # number of features\n",
    "\n",
    "print(f\"Number of examples in the dataset = {m}\")\n",
    "print(f\"Number of features = {n}\")"
   ]
  },
  {
   "cell_type": "markdown",
   "metadata": {
    "id": "3scyEa8A9_97"
   },
   "source": [
    "Let's look at the first 5 examples of our dataset:"
   ]
  },
  {
   "cell_type": "code",
   "execution_count": null,
   "metadata": {
    "colab": {
     "base_uri": "https://localhost:8080/"
    },
    "executionInfo": {
     "elapsed": 8,
     "status": "ok",
     "timestamp": 1739954626637,
     "user": {
      "displayName": "Dhruv",
      "userId": "12427809261748308825"
     },
     "user_tz": -330
    },
    "id": "JaU0zDrU_jjC",
    "outputId": "3aca470e-78f6-45b5-e082-f888e05d3520"
   },
   "outputs": [
    {
     "data": {
      "application/vnd.google.colaboratory.intrinsic+json": {
       "summary": "{\n  \"name\": \"X\",\n  \"rows\": 392,\n  \"fields\": [\n    {\n      \"column\": \"cylinders\",\n      \"properties\": {\n        \"dtype\": \"number\",\n        \"std\": 1.000000000000002,\n        \"min\": -1.4491517484425447,\n        \"max\": 1.4820530265289593,\n        \"num_unique_values\": 5,\n        \"samples\": [\n          -0.8629107934482438,\n          -0.27666983845394305,\n          0.30957111654035774\n        ],\n        \"semantic_type\": \"\",\n        \"description\": \"\"\n      }\n    },\n    {\n      \"column\": \"displacement\",\n      \"properties\": {\n        \"dtype\": \"number\",\n        \"std\": 1.0000000000000002,\n        \"min\": -1.2080194284802341,\n        \"max\": 2.4902335582546167,\n        \"num_unique_values\": 81,\n        \"samples\": [\n          -0.749321383613896,\n          1.0759145865834074,\n          1.5823936777899892\n        ],\n        \"semantic_type\": \"\",\n        \"description\": \"\"\n      }\n    },\n    {\n      \"column\": \"horsepower\",\n      \"properties\": {\n        \"dtype\": \"number\",\n        \"std\": 0.9999999999999972,\n        \"min\": -1.5190341849177258,\n        \"max\": 3.2612842134132394,\n        \"num_unique_values\": 93,\n        \"samples\": [\n          -0.3239545853349846,\n          -0.11611465497276874,\n          -1.3631542371460639\n        ],\n        \"semantic_type\": \"\",\n        \"description\": \"\"\n      }\n    },\n    {\n      \"column\": \"weight\",\n      \"properties\": {\n        \"dtype\": \"number\",\n        \"std\": 1.0000000000000004,\n        \"min\": -1.6065223344799788,\n        \"max\": 2.5458079808673872,\n        \"num_unique_values\": 346,\n        \"samples\": [\n          -0.5952232868804928,\n          0.2865729723185935,\n          -0.32679932546875484\n        ],\n        \"semantic_type\": \"\",\n        \"description\": \"\"\n      }\n    },\n    {\n      \"column\": \"acceleration\",\n      \"properties\": {\n        \"dtype\": \"number\",\n        \"std\": 1.0000000000000002,\n        \"min\": -2.733489655457043,\n        \"max\": 3.355972990838182,\n        \"num_unique_values\": 95,\n        \"samples\": [\n          -0.30495395723216195,\n          0.8911904911472575,\n          -0.4499411630963335\n        ],\n        \"semantic_type\": \"\",\n        \"description\": \"\"\n      }\n    },\n    {\n      \"column\": \"model year\",\n      \"properties\": {\n        \"dtype\": \"number\",\n        \"std\": 1.0000000000000013,\n        \"min\": -1.62324090390216,\n        \"max\": 1.6343210465909095,\n        \"num_unique_values\": 13,\n        \"samples\": [\n          1.362857550716487,\n          0.8199305589676421,\n          -1.62324090390216\n        ],\n        \"semantic_type\": \"\",\n        \"description\": \"\"\n      }\n    },\n    {\n      \"column\": \"origin\",\n      \"properties\": {\n        \"dtype\": \"number\",\n        \"std\": 0.9999999999999998,\n        \"min\": -0.7157263785136754,\n        \"max\": 1.767147430135535,\n        \"num_unique_values\": 3,\n        \"samples\": [\n          -0.7157263785136754,\n          1.767147430135535,\n          0.5257105258109298\n        ],\n        \"semantic_type\": \"\",\n        \"description\": \"\"\n      }\n    }\n  ]\n}",
       "type": "dataframe",
       "variable_name": "X"
      },
      "text/html": [
       "\n",
       "  <div id=\"df-2d5e5d7f-e41f-4643-9451-37980db5ed73\" class=\"colab-df-container\">\n",
       "    <div>\n",
       "<style scoped>\n",
       "    .dataframe tbody tr th:only-of-type {\n",
       "        vertical-align: middle;\n",
       "    }\n",
       "\n",
       "    .dataframe tbody tr th {\n",
       "        vertical-align: top;\n",
       "    }\n",
       "\n",
       "    .dataframe thead th {\n",
       "        text-align: right;\n",
       "    }\n",
       "</style>\n",
       "<table border=\"1\" class=\"dataframe\">\n",
       "  <thead>\n",
       "    <tr style=\"text-align: right;\">\n",
       "      <th></th>\n",
       "      <th>cylinders</th>\n",
       "      <th>displacement</th>\n",
       "      <th>horsepower</th>\n",
       "      <th>weight</th>\n",
       "      <th>acceleration</th>\n",
       "      <th>model year</th>\n",
       "      <th>origin</th>\n",
       "    </tr>\n",
       "  </thead>\n",
       "  <tbody>\n",
       "    <tr>\n",
       "      <th>0</th>\n",
       "      <td>1.482053</td>\n",
       "      <td>1.075915</td>\n",
       "      <td>0.663285</td>\n",
       "      <td>0.619748</td>\n",
       "      <td>-1.283618</td>\n",
       "      <td>-1.623241</td>\n",
       "      <td>-0.715726</td>\n",
       "    </tr>\n",
       "    <tr>\n",
       "      <th>1</th>\n",
       "      <td>1.482053</td>\n",
       "      <td>1.486832</td>\n",
       "      <td>1.572585</td>\n",
       "      <td>0.842258</td>\n",
       "      <td>-1.464852</td>\n",
       "      <td>-1.623241</td>\n",
       "      <td>-0.715726</td>\n",
       "    </tr>\n",
       "    <tr>\n",
       "      <th>2</th>\n",
       "      <td>1.482053</td>\n",
       "      <td>1.181033</td>\n",
       "      <td>1.182885</td>\n",
       "      <td>0.539692</td>\n",
       "      <td>-1.646086</td>\n",
       "      <td>-1.623241</td>\n",
       "      <td>-0.715726</td>\n",
       "    </tr>\n",
       "    <tr>\n",
       "      <th>3</th>\n",
       "      <td>1.482053</td>\n",
       "      <td>1.047246</td>\n",
       "      <td>1.182885</td>\n",
       "      <td>0.536160</td>\n",
       "      <td>-1.283618</td>\n",
       "      <td>-1.623241</td>\n",
       "      <td>-0.715726</td>\n",
       "    </tr>\n",
       "    <tr>\n",
       "      <th>4</th>\n",
       "      <td>1.482053</td>\n",
       "      <td>1.028134</td>\n",
       "      <td>0.923085</td>\n",
       "      <td>0.554997</td>\n",
       "      <td>-1.827320</td>\n",
       "      <td>-1.623241</td>\n",
       "      <td>-0.715726</td>\n",
       "    </tr>\n",
       "  </tbody>\n",
       "</table>\n",
       "</div>\n",
       "    <div class=\"colab-df-buttons\">\n",
       "\n",
       "  <div class=\"colab-df-container\">\n",
       "    <button class=\"colab-df-convert\" onclick=\"convertToInteractive('df-2d5e5d7f-e41f-4643-9451-37980db5ed73')\"\n",
       "            title=\"Convert this dataframe to an interactive table.\"\n",
       "            style=\"display:none;\">\n",
       "\n",
       "  <svg xmlns=\"http://www.w3.org/2000/svg\" height=\"24px\" viewBox=\"0 -960 960 960\">\n",
       "    <path d=\"M120-120v-720h720v720H120Zm60-500h600v-160H180v160Zm220 220h160v-160H400v160Zm0 220h160v-160H400v160ZM180-400h160v-160H180v160Zm440 0h160v-160H620v160ZM180-180h160v-160H180v160Zm440 0h160v-160H620v160Z\"/>\n",
       "  </svg>\n",
       "    </button>\n",
       "\n",
       "  <style>\n",
       "    .colab-df-container {\n",
       "      display:flex;\n",
       "      gap: 12px;\n",
       "    }\n",
       "\n",
       "    .colab-df-convert {\n",
       "      background-color: #E8F0FE;\n",
       "      border: none;\n",
       "      border-radius: 50%;\n",
       "      cursor: pointer;\n",
       "      display: none;\n",
       "      fill: #1967D2;\n",
       "      height: 32px;\n",
       "      padding: 0 0 0 0;\n",
       "      width: 32px;\n",
       "    }\n",
       "\n",
       "    .colab-df-convert:hover {\n",
       "      background-color: #E2EBFA;\n",
       "      box-shadow: 0px 1px 2px rgba(60, 64, 67, 0.3), 0px 1px 3px 1px rgba(60, 64, 67, 0.15);\n",
       "      fill: #174EA6;\n",
       "    }\n",
       "\n",
       "    .colab-df-buttons div {\n",
       "      margin-bottom: 4px;\n",
       "    }\n",
       "\n",
       "    [theme=dark] .colab-df-convert {\n",
       "      background-color: #3B4455;\n",
       "      fill: #D2E3FC;\n",
       "    }\n",
       "\n",
       "    [theme=dark] .colab-df-convert:hover {\n",
       "      background-color: #434B5C;\n",
       "      box-shadow: 0px 1px 3px 1px rgba(0, 0, 0, 0.15);\n",
       "      filter: drop-shadow(0px 1px 2px rgba(0, 0, 0, 0.3));\n",
       "      fill: #FFFFFF;\n",
       "    }\n",
       "  </style>\n",
       "\n",
       "    <script>\n",
       "      const buttonEl =\n",
       "        document.querySelector('#df-2d5e5d7f-e41f-4643-9451-37980db5ed73 button.colab-df-convert');\n",
       "      buttonEl.style.display =\n",
       "        google.colab.kernel.accessAllowed ? 'block' : 'none';\n",
       "\n",
       "      async function convertToInteractive(key) {\n",
       "        const element = document.querySelector('#df-2d5e5d7f-e41f-4643-9451-37980db5ed73');\n",
       "        const dataTable =\n",
       "          await google.colab.kernel.invokeFunction('convertToInteractive',\n",
       "                                                    [key], {});\n",
       "        if (!dataTable) return;\n",
       "\n",
       "        const docLinkHtml = 'Like what you see? Visit the ' +\n",
       "          '<a target=\"_blank\" href=https://colab.research.google.com/notebooks/data_table.ipynb>data table notebook</a>'\n",
       "          + ' to learn more about interactive tables.';\n",
       "        element.innerHTML = '';\n",
       "        dataTable['output_type'] = 'display_data';\n",
       "        await google.colab.output.renderOutput(dataTable, element);\n",
       "        const docLink = document.createElement('div');\n",
       "        docLink.innerHTML = docLinkHtml;\n",
       "        element.appendChild(docLink);\n",
       "      }\n",
       "    </script>\n",
       "  </div>\n",
       "\n",
       "\n",
       "<div id=\"df-108c5589-4466-405a-a12d-03407526854d\">\n",
       "  <button class=\"colab-df-quickchart\" onclick=\"quickchart('df-108c5589-4466-405a-a12d-03407526854d')\"\n",
       "            title=\"Suggest charts\"\n",
       "            style=\"display:none;\">\n",
       "\n",
       "<svg xmlns=\"http://www.w3.org/2000/svg\" height=\"24px\"viewBox=\"0 0 24 24\"\n",
       "     width=\"24px\">\n",
       "    <g>\n",
       "        <path d=\"M19 3H5c-1.1 0-2 .9-2 2v14c0 1.1.9 2 2 2h14c1.1 0 2-.9 2-2V5c0-1.1-.9-2-2-2zM9 17H7v-7h2v7zm4 0h-2V7h2v10zm4 0h-2v-4h2v4z\"/>\n",
       "    </g>\n",
       "</svg>\n",
       "  </button>\n",
       "\n",
       "<style>\n",
       "  .colab-df-quickchart {\n",
       "      --bg-color: #E8F0FE;\n",
       "      --fill-color: #1967D2;\n",
       "      --hover-bg-color: #E2EBFA;\n",
       "      --hover-fill-color: #174EA6;\n",
       "      --disabled-fill-color: #AAA;\n",
       "      --disabled-bg-color: #DDD;\n",
       "  }\n",
       "\n",
       "  [theme=dark] .colab-df-quickchart {\n",
       "      --bg-color: #3B4455;\n",
       "      --fill-color: #D2E3FC;\n",
       "      --hover-bg-color: #434B5C;\n",
       "      --hover-fill-color: #FFFFFF;\n",
       "      --disabled-bg-color: #3B4455;\n",
       "      --disabled-fill-color: #666;\n",
       "  }\n",
       "\n",
       "  .colab-df-quickchart {\n",
       "    background-color: var(--bg-color);\n",
       "    border: none;\n",
       "    border-radius: 50%;\n",
       "    cursor: pointer;\n",
       "    display: none;\n",
       "    fill: var(--fill-color);\n",
       "    height: 32px;\n",
       "    padding: 0;\n",
       "    width: 32px;\n",
       "  }\n",
       "\n",
       "  .colab-df-quickchart:hover {\n",
       "    background-color: var(--hover-bg-color);\n",
       "    box-shadow: 0 1px 2px rgba(60, 64, 67, 0.3), 0 1px 3px 1px rgba(60, 64, 67, 0.15);\n",
       "    fill: var(--button-hover-fill-color);\n",
       "  }\n",
       "\n",
       "  .colab-df-quickchart-complete:disabled,\n",
       "  .colab-df-quickchart-complete:disabled:hover {\n",
       "    background-color: var(--disabled-bg-color);\n",
       "    fill: var(--disabled-fill-color);\n",
       "    box-shadow: none;\n",
       "  }\n",
       "\n",
       "  .colab-df-spinner {\n",
       "    border: 2px solid var(--fill-color);\n",
       "    border-color: transparent;\n",
       "    border-bottom-color: var(--fill-color);\n",
       "    animation:\n",
       "      spin 1s steps(1) infinite;\n",
       "  }\n",
       "\n",
       "  @keyframes spin {\n",
       "    0% {\n",
       "      border-color: transparent;\n",
       "      border-bottom-color: var(--fill-color);\n",
       "      border-left-color: var(--fill-color);\n",
       "    }\n",
       "    20% {\n",
       "      border-color: transparent;\n",
       "      border-left-color: var(--fill-color);\n",
       "      border-top-color: var(--fill-color);\n",
       "    }\n",
       "    30% {\n",
       "      border-color: transparent;\n",
       "      border-left-color: var(--fill-color);\n",
       "      border-top-color: var(--fill-color);\n",
       "      border-right-color: var(--fill-color);\n",
       "    }\n",
       "    40% {\n",
       "      border-color: transparent;\n",
       "      border-right-color: var(--fill-color);\n",
       "      border-top-color: var(--fill-color);\n",
       "    }\n",
       "    60% {\n",
       "      border-color: transparent;\n",
       "      border-right-color: var(--fill-color);\n",
       "    }\n",
       "    80% {\n",
       "      border-color: transparent;\n",
       "      border-right-color: var(--fill-color);\n",
       "      border-bottom-color: var(--fill-color);\n",
       "    }\n",
       "    90% {\n",
       "      border-color: transparent;\n",
       "      border-bottom-color: var(--fill-color);\n",
       "    }\n",
       "  }\n",
       "</style>\n",
       "\n",
       "  <script>\n",
       "    async function quickchart(key) {\n",
       "      const quickchartButtonEl =\n",
       "        document.querySelector('#' + key + ' button');\n",
       "      quickchartButtonEl.disabled = true;  // To prevent multiple clicks.\n",
       "      quickchartButtonEl.classList.add('colab-df-spinner');\n",
       "      try {\n",
       "        const charts = await google.colab.kernel.invokeFunction(\n",
       "            'suggestCharts', [key], {});\n",
       "      } catch (error) {\n",
       "        console.error('Error during call to suggestCharts:', error);\n",
       "      }\n",
       "      quickchartButtonEl.classList.remove('colab-df-spinner');\n",
       "      quickchartButtonEl.classList.add('colab-df-quickchart-complete');\n",
       "    }\n",
       "    (() => {\n",
       "      let quickchartButtonEl =\n",
       "        document.querySelector('#df-108c5589-4466-405a-a12d-03407526854d button');\n",
       "      quickchartButtonEl.style.display =\n",
       "        google.colab.kernel.accessAllowed ? 'block' : 'none';\n",
       "    })();\n",
       "  </script>\n",
       "</div>\n",
       "\n",
       "    </div>\n",
       "  </div>\n"
      ],
      "text/plain": [
       "   cylinders  displacement  horsepower    weight  acceleration  model year  \\\n",
       "0   1.482053      1.075915    0.663285  0.619748     -1.283618   -1.623241   \n",
       "1   1.482053      1.486832    1.572585  0.842258     -1.464852   -1.623241   \n",
       "2   1.482053      1.181033    1.182885  0.539692     -1.646086   -1.623241   \n",
       "3   1.482053      1.047246    1.182885  0.536160     -1.283618   -1.623241   \n",
       "4   1.482053      1.028134    0.923085  0.554997     -1.827320   -1.623241   \n",
       "\n",
       "     origin  \n",
       "0 -0.715726  \n",
       "1 -0.715726  \n",
       "2 -0.715726  \n",
       "3 -0.715726  \n",
       "4 -0.715726  "
      ]
     },
     "execution_count": 6,
     "metadata": {},
     "output_type": "execute_result"
    }
   ],
   "source": [
    "X.head()"
   ]
  },
  {
   "cell_type": "markdown",
   "metadata": {
    "id": "KLRt3Zn4KjAl"
   },
   "source": [
    "## Linear Regression Model"
   ]
  },
  {
   "cell_type": "code",
   "execution_count": null,
   "metadata": {
    "id": "pcN8bWoxV2kx"
   },
   "outputs": [],
   "source": [
    "# Training Set    - 60%\n",
    "# Validation Set  - 20%\n",
    "# Test Set        - 20%\n",
    "\n",
    "X_train, X_val_test, y_train, y_val_test = train_test_split(np.array(X), y, test_size=0.4, random_state=42)\n",
    "X_val, X_test, y_val, y_test = train_test_split(X_val_test, y_val_test, test_size=0.5, random_state=42)"
   ]
  },
  {
   "cell_type": "markdown",
   "metadata": {
    "id": "E3I4lPBcEjiM"
   },
   "source": [
    "Linear Regression involves fitting a curve around some data points and getting the error (the difference between y coordinates of original data and the point projected onto that curve) to a minimum.\n",
    "\n",
    "We have a quadratic function model which helps us predict values $\\widehat{y}$ :\n",
    "$$ \\widehat{y} = f(\\vec{x}) = w_{1}x_{1} + w_{2}x_{2} + ... + w_{n}x_{n} + w_{n+1}x^{2}_{1} + ... + w_{2n}x^{2}_{n} + b= \\sum^{n}_{i=1} ( \\, w_{i}x_{i} + w_{n+i}x^{2}_{i} \\, ) \\,\\, + \\, b$$\n",
    "\n",
    "We need an error measurement equation, also known as the cost function which tracks the total error (MSE in this case) including the regularization error :\n",
    "$$ J(X|w,b) = \\frac{1}{2m} \\left( \\sum^{m}_{i=1} (f(\\vec{x_{(i)}}) - y_{(i)})^{2} \\, + \\, \\lambda \\sum_{i=1}^{2n} w_{(i)}^{2} \\right) $$\n",
    "\n",
    "The above cost function will give the current total mean squared error of the model. The objective of our model is to $ \\underset{w,b}{min} \\,\\, J(X|w,b) $. To do this mathematically we will use gradient descent.\n",
    "\n",
    "$$ w := w - \\alpha \\frac{\\partial J}{\\partial w}$$\n",
    "$$ b := b - \\alpha \\frac{\\partial J}{\\partial b} $$\n",
    "\n",
    "First we calculate the gradients of J with respect to w and b respectively and then update both simultaneously. The gradients can be calculated by the below derived formulas:\n",
    "\n",
    "$$ \\frac{\\partial }{\\partial w_{j}} J(X|w,b) = \\frac{1}{m} \\left( \\sum_{i=1}^{m} (f(\\vec{x_{(i)}}) - y_{(i)})x_{(i, j)} \\, + \\, \\lambda w_{j}\\right) \\, \\forall \\, j=1,...,n $$\n",
    "\n",
    "\n",
    "$$ \\frac{\\partial }{\\partial w_{j}} J(X|w,b) = \\frac{1}{m} \\left( 2\\sum_{i=1}^{m} (f(\\vec{x_{(i)}}) - y_{(i)})x^{2}_{(i, j)} \\, + \\, \\lambda w_{j}\\right) \\, \\forall \\, j=(n+1),...,2n $$\n",
    "\n",
    "\n",
    "$$ \\frac{\\partial }{\\partial b} J(X|w,b) = \\frac{1}{m} \\left( \\sum^m_{i=1} (f(\\vec{x_{(i)}}) - y_{(i)})\\right) $$\n",
    "\n",
    "Using these steps we have to train our model, tune the weights `w` and bias `b` so as to fit the training data as well as possible and then we will we able to predict on new examples. After we train the model we will print the description of our Linear Regression model, and then plot the Cost vs Epochs graph to confirm that cost is decreasing as we go ahead on each iteration. Finally we will conclude by printing the training, validation and test set costs."
   ]
  },
  {
   "cell_type": "code",
   "execution_count": null,
   "metadata": {
    "id": "l1kHT5NLERRF"
   },
   "outputs": [],
   "source": [
    "class LinearRegression:\n",
    "  def __init__(self, alpha=0.05, lambda_=1, epochs=200):\n",
    "    self.epochs = epochs\n",
    "    self.w = None\n",
    "    self.b = None\n",
    "    self.alpha = alpha\n",
    "    self.lambda_ = lambda_\n",
    "    self.cost_history = []\n",
    "\n",
    "  def initialize_weights(self, n):\n",
    "    self.w = np.random.rand(2*n, 1)\n",
    "    self.b = np.random.rand(1)\n",
    "\n",
    "  def model(self, X):\n",
    "    n = X.shape[1]\n",
    "    a = np.dot(X, self.w[:n,]) + np.dot(X**2, self.w[n:,]) + self.b\n",
    "    return a\n",
    "\n",
    "  def cost_function(self, X, y):\n",
    "    squared_error = np.sum((self.model(X) - y) ** 2)\n",
    "    regularization_term = (self.lambda_ * np.sum(self.w ** 2))\n",
    "    cost = (squared_error + regularization_term) / (2 * X.shape[0])\n",
    "    return cost\n",
    "\n",
    "  def gradient_descent(self, X, y):\n",
    "    m, n = X.shape\n",
    "    fx = self.model(X)\n",
    "    dJ_dw = np.zeros((2*n, 1))\n",
    "    dJ_dw[:n,] = np.dot(X.T, fx - y) / m\n",
    "    dJ_dw[n:,] = 2 * np.dot((X**2).T, fx - y) / m\n",
    "    dJ_dw += (self.lambda_ / m) * self.w\n",
    "    dJ_db = np.sum(fx - y) / m\n",
    "    return dJ_dw, dJ_db\n",
    "\n",
    "  def fit(self, X, y):\n",
    "    self.initialize_weights(X.shape[1])\n",
    "    for epoch in range(self.epochs):\n",
    "      cost = self.cost_function(X, y)\n",
    "      self.cost_history.append(cost)\n",
    "      dJ_dw, dJ_db = self.gradient_descent(X, y)\n",
    "      self.w = self.w - (self.alpha * dJ_dw)\n",
    "      self.b = self.b - (self.alpha * dJ_db)\n",
    "\n",
    "      #if epoch % (self.epochs // 5) == 0:\n",
    "        #print(f\"Epoch {epoch}/{self.epochs}\")\n",
    "        #print(f\"{X.shape[0]}/{X.shape[0]} [===================================] - loss: {round(cost)}\") \"\"\"\n",
    "\n",
    "  def plot(self):\n",
    "    plt.figure(figsize=(8, 6), dpi=100)\n",
    "    plt.plot(np.arange(1, self.epochs+1, 1), self.cost_history, linewidth=3)\n",
    "    plt.title(\"Epochs vs Cost\", fontdict={\"fontsize\": 17})\n",
    "    plt.xlabel(\"Epoch\")\n",
    "    plt.ylabel(\"Cost\")\n",
    "    plt.show()\n",
    "\n",
    "  def predict(self, x):\n",
    "    assert x.shape[1] == (self.w.shape[0] / 2), \"Invalid Input Shape\"\n",
    "    return self.model(x)\n",
    "\n",
    "  def about(self):\n",
    "    print(\"LINEAR REGRESSION MODEL\")\n",
    "    print(\"______________________________________________\")\n",
    "    print(\"{:>20} = {:<7}\".format(\"Number of Epochs\", self.epochs))\n",
    "    print(\"{:>20} = ({},{})\".format(\"Shape of weights w\", self.w.shape[0], self.w.shape[1]))\n",
    "    print(\"{:>20} = {:<7}\".format(\"Alpha\", self.alpha))\n",
    "    print(\"{:>20} = {:<7}\".format(\"Lambda\", self.lambda_))\n",
    "    print(\"{:>20} = {:<7}\".format(\"Final Cost\", round(self.cost_history[-1], 3)))\n",
    "    print(\"______________________________________________\")"
   ]
  },
  {
   "cell_type": "code",
   "execution_count": null,
   "metadata": {
    "id": "tMsLQ6artRHv"
   },
   "outputs": [],
   "source": [
    "# Iterative Grid Search\n",
    "\n",
    "alphas = [1e-3, 3e-3, 5e-3, 1e-4, 3e-4, 5e-4]\n",
    "lambdas = [1, 3, 5, 10, 20]\n",
    "num_iterations = 3\n",
    "epochs = 500\n",
    "\n",
    "best_alpha, best_lambda, best_cost, LR = None, None, float('inf'), None\n",
    "for iter in range(num_iterations):\n",
    "  for alpha in alphas:\n",
    "    for lambda_ in lambdas:\n",
    "      lr = LinearRegression(alpha, lambda_, epochs)\n",
    "      lr.fit(X_train, y_train)\n",
    "      cost_val = lr.cost_function(X_val, y_val)\n",
    "      if cost_val < best_cost:\n",
    "        best_cost = cost_val\n",
    "        best_alpha = alpha\n",
    "        best_lambda = lambda_\n",
    "        LR = lr\n",
    "  alphas = [best_alpha * 0.25, best_alpha * 0.5, best_alpha, best_alpha * 1.5]\n",
    "  lambdas = [best_lambda * 0.25, best_lambda * 0.5, best_lambda, best_lambda * 1.5]"
   ]
  },
  {
   "cell_type": "code",
   "execution_count": null,
   "metadata": {
    "colab": {
     "base_uri": "https://localhost:8080/"
    },
    "executionInfo": {
     "elapsed": 417,
     "status": "ok",
     "timestamp": 1739954984143,
     "user": {
      "displayName": "Dhruv",
      "userId": "12427809261748308825"
     },
     "user_tz": -330
    },
    "id": "MRnAyjQK767K",
    "outputId": "c30c6ce3-dbde-4afa-9a1e-5a23304e94f6"
   },
   "outputs": [
    {
     "name": "stdout",
     "output_type": "stream",
     "text": [
      "LINEAR REGRESSION MODEL\n",
      "______________________________________________\n",
      "    Number of Epochs = 500    \n",
      "  Shape of weights w = (14,1)\n",
      "               Alpha = 0.01125\n",
      "              Lambda = 0.125  \n",
      "          Final Cost = 7.694  \n",
      "______________________________________________\n"
     ]
    }
   ],
   "source": [
    "LR.about()"
   ]
  },
  {
   "cell_type": "code",
   "execution_count": null,
   "metadata": {
    "colab": {
     "base_uri": "https://localhost:8080/",
     "height": 569
    },
    "executionInfo": {
     "elapsed": 539,
     "status": "ok",
     "timestamp": 1739954992245,
     "user": {
      "displayName": "Dhruv",
      "userId": "12427809261748308825"
     },
     "user_tz": -330
    },
    "id": "I9YNyhoUufm-",
    "outputId": "90557e1d-2676-480e-c3a9-8fcdb64794c7"
   },
   "outputs": [
    {
     "data": {
      "image/png": "[encoded data removed]",
      "text/plain": [
       "<Figure size 800x600 with 1 Axes>"
      ]
     },
     "metadata": {},
     "output_type": "display_data"
    }
   ],
   "source": [
    "LR.plot()"
   ]
  },
  {
   "cell_type": "code",
   "execution_count": null,
   "metadata": {
    "colab": {
     "base_uri": "https://localhost:8080/"
    },
    "executionInfo": {
     "elapsed": 510,
     "status": "ok",
     "timestamp": 1739954997405,
     "user": {
      "displayName": "Dhruv",
      "userId": "12427809261748308825"
     },
     "user_tz": -330
    },
    "id": "jSC6bHgzCBEp",
    "outputId": "5d3ba82f-1f9c-4766-e228-a28495ca5586"
   },
   "outputs": [
    {
     "name": "stdout",
     "output_type": "stream",
     "text": [
      "       Training Cost = 7.685  \n",
      "     Validation Cost = 9.266  \n",
      "           Test Cost = 7.576  \n"
     ]
    }
   ],
   "source": [
    "training_cost = round(LR.cost_function(X_train, y_train), 3)\n",
    "validation_cost = round(LR.cost_function(X_val, y_val), 3)\n",
    "test_cost = round(LR.cost_function(X_test, y_test), 3)\n",
    "\n",
    "print(\"{:>20} = {:<7}\".format(\"Training Cost\", training_cost))\n",
    "print(\"{:>20} = {:<7}\".format(\"Validation Cost\", validation_cost))\n",
    "print(\"{:>20} = {:<7}\".format(\"Test Cost\", test_cost))"
   ]
  },
  {
   "cell_type": "markdown",
   "metadata": {
    "id": "FKRU6sH6duNv"
   },
   "source": [
    "**That's our Linear Regression model fully trained and ready to use!**\n",
    "\n",
    "To run it on a new dataset, edit the _\"Data Preprocessing\"_ Section to load your new data and process it to remove all invalid values, convert everything to numerical data and then normalize the Data to make it ready for use in our model.\n",
    "\n",
    "Then experiment with some values of `alphas` and `lambdas` in _\"Linear Regression Model\"_ Section to get accuracte results and graphs and your model on the new data is ready."
   ]
  }
 ],
 "metadata": {
  "colab": {
   "authorship_tag": "ABX9TyNMAgv/OlGAyD/cHU373LWK",
   "collapsed_sections": [
    "SFBmNslV5d9J"
   ],
   "gpuType": "T4",
   "provenance": [
    {
     "file_id": "1Q0pSpawEU8RweYbyLu75U6BoeyKQ7Wgb",
     "timestamp": 1733056682181
    }
   ]
  },
  "kernelspec": {
   "display_name": "Python 3",
   "name": "python3"
  },
  "language_info": {
   "name": "python",
   "version": "3.12.4"
  }
 },
 "nbformat": 4,
 "nbformat_minor": 0
}
